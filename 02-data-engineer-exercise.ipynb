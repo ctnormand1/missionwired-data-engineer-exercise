{
 "cells": [
  {
   "cell_type": "markdown",
   "id": "6d2abcac-0aaf-4a22-8cb8-ecfb1a52b333",
   "metadata": {},
   "source": [
    "# MissionWired Data Engineer Exercise\n",
    "**Question 2:**<br>\n",
    "Use the output of question 1 to produce an “acquisition_facts” file with the following schema that aggregates stats about when people in the dataset were acquired. Save it to the working directory.\n",
    "\n",
    "| Column           | Type | Description                                         |\n",
    "| ---------------- | ---- | --------------------------------------------------- |\n",
    "| acquisition_date | date | Calendar date of acquisition                        |\n",
    "| acquisitions     | int  | Number of constituents acquired on acquisition_date |"
   ]
  },
  {
   "cell_type": "code",
   "execution_count": 1,
   "id": "76a86327-6387-4f64-bfaa-2a47d1e5030c",
   "metadata": {},
   "outputs": [],
   "source": [
    "import pandas as pd"
   ]
  },
  {
   "cell_type": "markdown",
   "id": "3c6494a2-75ce-41c6-bf5b-ead97572bac2",
   "metadata": {},
   "source": [
    "## Step 1: Load in data\n",
    "I'll bring in the file from the previous question"
   ]
  },
  {
   "cell_type": "code",
   "execution_count": 2,
   "id": "110983c8-d214-4b18-a5b2-2b4d0849fc10",
   "metadata": {},
   "outputs": [
    {
     "name": "stdout",
     "output_type": "stream",
     "text": [
      "<class 'pandas.core.frame.DataFrame'>\n",
      "RangeIndex: 605639 entries, 0 to 605638\n",
      "Data columns (total 5 columns):\n",
      " #   Column      Non-Null Count   Dtype \n",
      "---  ------      --------------   ----- \n",
      " 0   email       605639 non-null  object\n",
      " 1   code        302940 non-null  object\n",
      " 2   is_unsub    605639 non-null  int64 \n",
      " 3   created_dt  605639 non-null  object\n",
      " 4   updated_dt  605639 non-null  object\n",
      "dtypes: int64(1), object(4)\n",
      "memory usage: 23.1+ MB\n"
     ]
    },
    {
     "data": {
      "text/html": [
       "<div>\n",
       "<style scoped>\n",
       "    .dataframe tbody tr th:only-of-type {\n",
       "        vertical-align: middle;\n",
       "    }\n",
       "\n",
       "    .dataframe tbody tr th {\n",
       "        vertical-align: top;\n",
       "    }\n",
       "\n",
       "    .dataframe thead th {\n",
       "        text-align: right;\n",
       "    }\n",
       "</style>\n",
       "<table border=\"1\" class=\"dataframe\">\n",
       "  <thead>\n",
       "    <tr style=\"text-align: right;\">\n",
       "      <th></th>\n",
       "      <th>email</th>\n",
       "      <th>code</th>\n",
       "      <th>is_unsub</th>\n",
       "      <th>created_dt</th>\n",
       "      <th>updated_dt</th>\n",
       "    </tr>\n",
       "  </thead>\n",
       "  <tbody>\n",
       "    <tr>\n",
       "      <th>0</th>\n",
       "      <td>xmartinez@vincent.com</td>\n",
       "      <td>NaN</td>\n",
       "      <td>0</td>\n",
       "      <td>Tue, 1997-09-30 01:41:35</td>\n",
       "      <td>Thu, 1981-02-26 19:36:22</td>\n",
       "    </tr>\n",
       "    <tr>\n",
       "      <th>1</th>\n",
       "      <td>hmiller@haynes.biz</td>\n",
       "      <td>google</td>\n",
       "      <td>0</td>\n",
       "      <td>Thu, 2014-03-27 23:18:18</td>\n",
       "      <td>Mon, 2012-12-10 18:46:32</td>\n",
       "    </tr>\n",
       "    <tr>\n",
       "      <th>2</th>\n",
       "      <td>aaron64@yahoo.com</td>\n",
       "      <td>NaN</td>\n",
       "      <td>1</td>\n",
       "      <td>Mon, 1992-06-01 06:07:45</td>\n",
       "      <td>Mon, 1986-07-28 03:41:12</td>\n",
       "    </tr>\n",
       "    <tr>\n",
       "      <th>3</th>\n",
       "      <td>wyattvincent@hotmail.com</td>\n",
       "      <td>NaN</td>\n",
       "      <td>1</td>\n",
       "      <td>Sun, 1993-05-23 08:00:18</td>\n",
       "      <td>Sat, 1983-05-07 09:29:18</td>\n",
       "    </tr>\n",
       "    <tr>\n",
       "      <th>4</th>\n",
       "      <td>tspencer@hotmail.com</td>\n",
       "      <td>twitter</td>\n",
       "      <td>1</td>\n",
       "      <td>Fri, 1986-10-31 03:24:05</td>\n",
       "      <td>Sat, 1979-09-22 05:01:01</td>\n",
       "    </tr>\n",
       "  </tbody>\n",
       "</table>\n",
       "</div>"
      ],
      "text/plain": [
       "                      email     code  is_unsub                created_dt  \\\n",
       "0     xmartinez@vincent.com      NaN         0  Tue, 1997-09-30 01:41:35   \n",
       "1        hmiller@haynes.biz   google         0  Thu, 2014-03-27 23:18:18   \n",
       "2         aaron64@yahoo.com      NaN         1  Mon, 1992-06-01 06:07:45   \n",
       "3  wyattvincent@hotmail.com      NaN         1  Sun, 1993-05-23 08:00:18   \n",
       "4      tspencer@hotmail.com  twitter         1  Fri, 1986-10-31 03:24:05   \n",
       "\n",
       "                 updated_dt  \n",
       "0  Thu, 1981-02-26 19:36:22  \n",
       "1  Mon, 2012-12-10 18:46:32  \n",
       "2  Mon, 1986-07-28 03:41:12  \n",
       "3  Sat, 1983-05-07 09:29:18  \n",
       "4  Sat, 1979-09-22 05:01:01  "
      ]
     },
     "execution_count": 2,
     "metadata": {},
     "output_type": "execute_result"
    }
   ],
   "source": [
    "people = pd.read_csv('./people.csv')\n",
    "people.info()\n",
    "people.head()"
   ]
  },
  {
   "cell_type": "markdown",
   "id": "82dfcb1f-a5c8-49cb-874d-95273243aafc",
   "metadata": {},
   "source": [
    "## Step 2: Convert datetimes\n",
    "I decided to keep the datetimes in their original format for question 1. As a result, I need to convert them to actual datetime objects here."
   ]
  },
  {
   "cell_type": "code",
   "execution_count": 3,
   "id": "374827e9-0b9e-4087-a03f-5390bbae0fcd",
   "metadata": {},
   "outputs": [
    {
     "name": "stdout",
     "output_type": "stream",
     "text": [
      "created_dt --> datetime64[ns]\n",
      "updated_dt --> datetime64[ns]\n"
     ]
    }
   ],
   "source": [
    "people['created_dt'] = pd.to_datetime(people['created_dt'], format='%a, %Y-%m-%d %H:%M:%S')\n",
    "people['updated_dt'] = pd.to_datetime(people['updated_dt'], format='%a, %Y-%m-%d %H:%M:%S')\n",
    "print(f\"created_dt --> {people['created_dt'].dtype}\")\n",
    "print(f\"updated_dt --> {people['updated_dt'].dtype}\")"
   ]
  },
  {
   "cell_type": "markdown",
   "id": "2a447b32-2e4e-4833-9b6d-2cc60fb18bd4",
   "metadata": {},
   "source": [
    "## Step 3: Final formatting and output"
   ]
  },
  {
   "cell_type": "code",
   "execution_count": 4,
   "id": "087b6ef2-7395-435d-9412-611c3c70e5f3",
   "metadata": {},
   "outputs": [
    {
     "data": {
      "text/html": [
       "<div>\n",
       "<style scoped>\n",
       "    .dataframe tbody tr th:only-of-type {\n",
       "        vertical-align: middle;\n",
       "    }\n",
       "\n",
       "    .dataframe tbody tr th {\n",
       "        vertical-align: top;\n",
       "    }\n",
       "\n",
       "    .dataframe thead th {\n",
       "        text-align: right;\n",
       "    }\n",
       "</style>\n",
       "<table border=\"1\" class=\"dataframe\">\n",
       "  <thead>\n",
       "    <tr style=\"text-align: right;\">\n",
       "      <th></th>\n",
       "      <th>email</th>\n",
       "      <th>code</th>\n",
       "      <th>is_unsub</th>\n",
       "      <th>created_dt</th>\n",
       "      <th>updated_dt</th>\n",
       "      <th>acquisition_date</th>\n",
       "    </tr>\n",
       "  </thead>\n",
       "  <tbody>\n",
       "    <tr>\n",
       "      <th>0</th>\n",
       "      <td>xmartinez@vincent.com</td>\n",
       "      <td>NaN</td>\n",
       "      <td>0</td>\n",
       "      <td>1997-09-30 01:41:35</td>\n",
       "      <td>1981-02-26 19:36:22</td>\n",
       "      <td>1997-09-30</td>\n",
       "    </tr>\n",
       "    <tr>\n",
       "      <th>1</th>\n",
       "      <td>hmiller@haynes.biz</td>\n",
       "      <td>google</td>\n",
       "      <td>0</td>\n",
       "      <td>2014-03-27 23:18:18</td>\n",
       "      <td>2012-12-10 18:46:32</td>\n",
       "      <td>2014-03-27</td>\n",
       "    </tr>\n",
       "    <tr>\n",
       "      <th>2</th>\n",
       "      <td>aaron64@yahoo.com</td>\n",
       "      <td>NaN</td>\n",
       "      <td>1</td>\n",
       "      <td>1992-06-01 06:07:45</td>\n",
       "      <td>1986-07-28 03:41:12</td>\n",
       "      <td>1992-06-01</td>\n",
       "    </tr>\n",
       "    <tr>\n",
       "      <th>3</th>\n",
       "      <td>wyattvincent@hotmail.com</td>\n",
       "      <td>NaN</td>\n",
       "      <td>1</td>\n",
       "      <td>1993-05-23 08:00:18</td>\n",
       "      <td>1983-05-07 09:29:18</td>\n",
       "      <td>1993-05-23</td>\n",
       "    </tr>\n",
       "    <tr>\n",
       "      <th>4</th>\n",
       "      <td>tspencer@hotmail.com</td>\n",
       "      <td>twitter</td>\n",
       "      <td>1</td>\n",
       "      <td>1986-10-31 03:24:05</td>\n",
       "      <td>1979-09-22 05:01:01</td>\n",
       "      <td>1986-10-31</td>\n",
       "    </tr>\n",
       "  </tbody>\n",
       "</table>\n",
       "</div>"
      ],
      "text/plain": [
       "                      email     code  is_unsub          created_dt  \\\n",
       "0     xmartinez@vincent.com      NaN         0 1997-09-30 01:41:35   \n",
       "1        hmiller@haynes.biz   google         0 2014-03-27 23:18:18   \n",
       "2         aaron64@yahoo.com      NaN         1 1992-06-01 06:07:45   \n",
       "3  wyattvincent@hotmail.com      NaN         1 1993-05-23 08:00:18   \n",
       "4      tspencer@hotmail.com  twitter         1 1986-10-31 03:24:05   \n",
       "\n",
       "           updated_dt acquisition_date  \n",
       "0 1981-02-26 19:36:22       1997-09-30  \n",
       "1 2012-12-10 18:46:32       2014-03-27  \n",
       "2 1986-07-28 03:41:12       1992-06-01  \n",
       "3 1983-05-07 09:29:18       1993-05-23  \n",
       "4 1979-09-22 05:01:01       1986-10-31  "
      ]
     },
     "execution_count": 4,
     "metadata": {},
     "output_type": "execute_result"
    }
   ],
   "source": [
    "# Add a column that's just the date of creation (no time)\n",
    "people['acquisition_date'] = people['created_dt'].dt.date\n",
    "people.head()"
   ]
  },
  {
   "cell_type": "code",
   "execution_count": 5,
   "id": "6b4b5112-b1d5-4a7f-94d8-1f40ce719377",
   "metadata": {},
   "outputs": [],
   "source": [
    "acquisitions = people.groupby('acquisition_date')['email'].count().rename('acquisitions')"
   ]
  },
  {
   "cell_type": "code",
   "execution_count": 6,
   "id": "4d1e335f-d924-47a5-9f41-4130aec87d15",
   "metadata": {},
   "outputs": [],
   "source": [
    "acquisitions.to_csv('./acquisition_facts.csv')"
   ]
  }
 ],
 "metadata": {
  "kernelspec": {
   "display_name": "Python 3",
   "language": "python",
   "name": "python3"
  },
  "language_info": {
   "codemirror_mode": {
    "name": "ipython",
    "version": 3
   },
   "file_extension": ".py",
   "mimetype": "text/x-python",
   "name": "python",
   "nbconvert_exporter": "python",
   "pygments_lexer": "ipython3",
   "version": "3.8.8"
  }
 },
 "nbformat": 4,
 "nbformat_minor": 5
}
